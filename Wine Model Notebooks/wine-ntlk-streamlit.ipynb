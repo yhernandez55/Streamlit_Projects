{
 "cells": [
  {
   "cell_type": "markdown",
   "metadata": {},
   "source": [
    "# Wine Review Sentiment Analysis Model "
   ]
  },
  {
   "cell_type": "markdown",
   "metadata": {},
   "source": [
    "This notebook demonstrates the process of training a sentiment analysis model to predict whether a wine review is positive or negative. The goal of this project is to focus on positive wine reviews, as we are more interested in understanding customer satisfaction. This insight will help us identify which wines customers are likely to enjoy, make informed recommendations, and prioritize those with the most positive reviews for increased advertising efforts.\n",
    "\n",
    "The skeleton of the notebook:\n",
    "1. Building a model to classify wine reviews based on sentiment.\n",
    "2. Using SMOTE to balance the dataset to ensure the model is fair and robust.\n",
    "3. Using Joblib to save the trained model and preprocessing tools for integration into a Streamlit app.\n"
   ]
  },
  {
   "cell_type": "markdown",
   "metadata": {},
   "source": [
    "# Import libraries:"
   ]
  },
  {
   "cell_type": "code",
   "execution_count": 1,
   "metadata": {},
   "outputs": [],
   "source": [
    "import os\n",
    "import gdown\n",
    "import pandas as pd\n",
    "import nltk\n",
    "from nltk.tokenize import word_tokenize\n",
    "from nltk.corpus import stopwords\n",
    "from nltk.stem import WordNetLemmatizer\n",
    "import joblib\n",
    "from textblob import TextBlob\n",
    "from sklearn.model_selection import train_test_split\n",
    "from sklearn.feature_extraction.text import TfidfVectorizer\n",
    "from imblearn.over_sampling import SMOTE\n",
    "from sklearn.ensemble import RandomForestClassifier\n",
    "from sklearn.metrics import classification_report, accuracy_score\n",
    "import matplotlib.pyplot as plt\n",
    "import seaborn as sns\n"
   ]
  },
  {
   "cell_type": "code",
   "execution_count": 2,
   "metadata": {},
   "outputs": [],
   "source": [
    "# Define the preprocess_text function\n",
    "def preprocess_text(text):\n",
    "    stop_words = set(stopwords.words(\"english\")).union({\",\", \".\"})\n",
    "    lemmatizer = WordNetLemmatizer()\n",
    "    tokens = word_tokenize(text)  # Tokenize\n",
    "    tokens = [word.lower() for word in tokens if word.lower() not in stop_words]  # Remove stopwords\n",
    "    lemmatized_tokens = [lemmatizer.lemmatize(token) for token in tokens]  # Lemmatize\n",
    "    return ' '.join(lemmatized_tokens)  # Join tokens back into a string\n"
   ]
  },
  {
   "cell_type": "markdown",
   "metadata": {},
   "source": [
    "Removing stopwords helps improve the model's ability to classify reviews as positive or negative by eliminating common, less meaningful words (e.g., 'the', 'and', 'is') that do not contribute to the sentiment of the review. These words often occur frequently but don't provide valuable information for distinguishing sentiment."
   ]
  },
  {
   "cell_type": "markdown",
   "metadata": {},
   "source": [
    "Lemmatizing the words reduces variations of the same word to its base or root form (e.g., 'running' becomes 'run'). This helps standardize the words, making it easier for the model to identify the sentiment without being distracted by different word forms. I chose lemmatization over stemming because lemmatization provides greater accuracy for sentiment analysis models. Unlike stemming, which simply removes word endings, lemmatization considers the context of a word and reduces it to its meaningful base or dictionary form. This makes lemmatization more appropriate for sentiment analysis, as understanding the precise meaning of words in context is crucial for accurately determining sentiment."
   ]
  },
  {
   "cell_type": "markdown",
   "metadata": {},
   "source": [
    "# info"
   ]
  },
  {
   "cell_type": "code",
   "execution_count": 3,
   "metadata": {},
   "outputs": [
    {
     "name": "stderr",
     "output_type": "stream",
     "text": [
      "Downloading...\n",
      "From: https://drive.google.com/uc?id=1qd2rIjiqfx9dZ1q_aufpkwfZsl7u3DQb\n",
      "To: /Users/yanellyhernandez/Desktop/Streamlit_Projects/DataSets/winemag-data-130k-v2.csv\n",
      "100%|██████████| 52.9M/52.9M [00:04<00:00, 10.8MB/s]\n"
     ]
    },
    {
     "name": "stdout",
     "output_type": "stream",
     "text": [
      "   Unnamed: 0   country                                        description  \\\n",
      "0           0     Italy  Aromas include tropical fruit, broom, brimston...   \n",
      "1           1  Portugal  This is ripe and fruity, a wine that is smooth...   \n",
      "2           2        US  Tart and snappy, the flavors of lime flesh and...   \n",
      "3           3        US  Pineapple rind, lemon pith and orange blossom ...   \n",
      "4           4        US  Much like the regular bottling from 2012, this...   \n",
      "\n",
      "                          designation  points  price           province  \\\n",
      "0                       VulkÃ  Bianco      87    NaN  Sicily & Sardinia   \n",
      "1                            Avidagos      87   15.0              Douro   \n",
      "2                                 NaN      87   14.0             Oregon   \n",
      "3                Reserve Late Harvest      87   13.0           Michigan   \n",
      "4  Vintner's Reserve Wild Child Block      87   65.0             Oregon   \n",
      "\n",
      "              region_1           region_2         taster_name  \\\n",
      "0                 Etna                NaN     Kerin OâKeefe   \n",
      "1                  NaN                NaN          Roger Voss   \n",
      "2    Willamette Valley  Willamette Valley        Paul Gregutt   \n",
      "3  Lake Michigan Shore                NaN  Alexander Peartree   \n",
      "4    Willamette Valley  Willamette Valley        Paul Gregutt   \n",
      "\n",
      "  taster_twitter_handle                                              title  \\\n",
      "0          @kerinokeefe                 Nicosia 2013 VulkÃ  Bianco  (Etna)   \n",
      "1            @vossroger      Quinta dos Avidagos 2011 Avidagos Red (Douro)   \n",
      "2          @paulgwineÂ       Rainstorm 2013 Pinot Gris (Willamette Valley)   \n",
      "3                   NaN  St. Julian 2013 Reserve Late Harvest Riesling ...   \n",
      "4          @paulgwineÂ   Sweet Cheeks 2012 Vintner's Reserve Wild Child...   \n",
      "\n",
      "          variety               winery  \n",
      "0     White Blend              Nicosia  \n",
      "1  Portuguese Red  Quinta dos Avidagos  \n",
      "2      Pinot Gris            Rainstorm  \n",
      "3        Riesling           St. Julian  \n",
      "4      Pinot Noir         Sweet Cheeks  \n"
     ]
    }
   ],
   "source": [
    "# Define the folder path at the root level\n",
    "repo_root = os.path.dirname(os.getcwd())  # Moves one level up from `wine_model_notebooks`\n",
    "data_folder = os.path.join(repo_root, 'DataSets')\n",
    "\n",
    "# Ensure the DataSets folder exists at the root level\n",
    "if not os.path.exists(data_folder):\n",
    "    os.makedirs(data_folder)\n",
    "\n",
    "# Define file download details\n",
    "file_id = '1qd2rIjiqfx9dZ1q_aufpkwfZsl7u3DQb'\n",
    "url = f'https://drive.google.com/uc?id={file_id}'\n",
    "output = os.path.join(data_folder, 'winemag-data-130k-v2.csv')\n",
    "\n",
    "# Download and save file\n",
    "gdown.download(url, output, quiet=False)\n",
    "\n",
    "# Load the file\n",
    "df = pd.read_csv(output, encoding='ISO-8859-1')\n",
    "print(df.head())\n"
   ]
  },
  {
   "cell_type": "code",
   "execution_count": 4,
   "metadata": {},
   "outputs": [
    {
     "name": "stdout",
     "output_type": "stream",
     "text": [
      "<class 'pandas.core.frame.DataFrame'>\n",
      "RangeIndex: 129971 entries, 0 to 129970\n",
      "Data columns (total 14 columns):\n",
      " #   Column                 Non-Null Count   Dtype  \n",
      "---  ------                 --------------   -----  \n",
      " 0   Unnamed: 0             129971 non-null  int64  \n",
      " 1   country                129908 non-null  object \n",
      " 2   description            129971 non-null  object \n",
      " 3   designation            92506 non-null   object \n",
      " 4   points                 129971 non-null  int64  \n",
      " 5   price                  120975 non-null  float64\n",
      " 6   province               129908 non-null  object \n",
      " 7   region_1               108724 non-null  object \n",
      " 8   region_2               50511 non-null   object \n",
      " 9   taster_name            103727 non-null  object \n",
      " 10  taster_twitter_handle  98758 non-null   object \n",
      " 11  title                  129971 non-null  object \n",
      " 12  variety                129970 non-null  object \n",
      " 13  winery                 129971 non-null  object \n",
      "dtypes: float64(1), int64(2), object(11)\n",
      "memory usage: 13.9+ MB\n"
     ]
    }
   ],
   "source": [
    "df.info()"
   ]
  },
  {
   "cell_type": "code",
   "execution_count": 5,
   "metadata": {},
   "outputs": [
    {
     "data": {
      "text/plain": [
       "0         Aromas include tropical fruit, broom, brimston...\n",
       "1         This is ripe and fruity, a wine that is smooth...\n",
       "2         Tart and snappy, the flavors of lime flesh and...\n",
       "3         Pineapple rind, lemon pith and orange blossom ...\n",
       "4         Much like the regular bottling from 2012, this...\n",
       "                                ...                        \n",
       "129966    Notes of honeysuckle and cantaloupe sweeten th...\n",
       "129967    Citation is given as much as a decade of bottl...\n",
       "129968    Well-drained gravel soil gives this wine its c...\n",
       "129969    A dry style of Pinot Gris, this is crisp with ...\n",
       "129970    Big, rich and off-dry, this is powered by inte...\n",
       "Name: description, Length: 129971, dtype: object"
      ]
     },
     "execution_count": 5,
     "metadata": {},
     "output_type": "execute_result"
    }
   ],
   "source": [
    "df['description']"
   ]
  },
  {
   "cell_type": "code",
   "execution_count": 6,
   "metadata": {},
   "outputs": [
    {
     "data": {
      "text/plain": [
       "0         aroma include tropical fruit broom brimstone d...\n",
       "1         ripe fruity wine smooth still structured firm ...\n",
       "2         tart snappy flavor lime flesh rind dominate gr...\n",
       "3         pineapple rind lemon pith orange blossom start...\n",
       "4         much like regular bottling 2012 come across ra...\n",
       "                                ...                        \n",
       "129966    note honeysuckle cantaloupe sweeten deliciousl...\n",
       "129967    citation given much decade bottle age prior re...\n",
       "129968    well-drained gravel soil give wine crisp dry c...\n",
       "129969    dry style pinot gris crisp acidity also weight...\n",
       "129970    big rich off-dry powered intense spiciness rou...\n",
       "Name: description_cleaned, Length: 129971, dtype: object"
      ]
     },
     "execution_count": 6,
     "metadata": {},
     "output_type": "execute_result"
    }
   ],
   "source": [
    "# Preprocess the description using the new function\n",
    "df['description_cleaned'] = df['description'].apply(preprocess_text)\n",
    "df['description_cleaned']\n",
    "\n"
   ]
  },
  {
   "cell_type": "markdown",
   "metadata": {},
   "source": [
    "# pickle for wordcloud in py file"
   ]
  },
  {
   "cell_type": "code",
   "execution_count": 7,
   "metadata": {},
   "outputs": [],
   "source": [
    "# If running in a Jupyter Notebook, use the current working directory or specify your base path\n",
    "base_dir = os.getcwd()  # Get the current working directory\n",
    "\n",
    "# Define the folder to save the pickled model\n",
    "pickled_data_folder = os.path.join(base_dir, 'pickled_data')\n",
    "\n",
    "# Make sure the directory exists, create it if it doesn't\n",
    "os.makedirs(pickled_data_folder, exist_ok=True)"
   ]
  },
  {
   "cell_type": "code",
   "execution_count": 8,
   "metadata": {},
   "outputs": [
    {
     "data": {
      "text/plain": [
       "['/Users/yanellyhernandez/Desktop/Streamlit_Projects/Wine Model Notebooks/pickled_data/Cleaned_Wine_df.plk']"
      ]
     },
     "execution_count": 8,
     "metadata": {},
     "output_type": "execute_result"
    }
   ],
   "source": [
    "# Save the model with a full path\n",
    "Cleaned_Wine_save_path = os.path.join(pickled_data_folder, 'Cleaned_Wine_df.plk')\n",
    "# Saving the dataframe:\n",
    "joblib.dump(df, Cleaned_Wine_save_path)\n",
    "\n"
   ]
  },
  {
   "cell_type": "markdown",
   "metadata": {},
   "source": [
    "# Sentamental Analysis"
   ]
  },
  {
   "cell_type": "code",
   "execution_count": 9,
   "metadata": {},
   "outputs": [],
   "source": [
    "# Sentiment analysis\n",
    "df['Sentiment'] = df['description'].apply(lambda x: 1 if TextBlob(str(x)).sentiment.polarity > 0 \n",
    "                                          else 0)\n"
   ]
  },
  {
   "cell_type": "code",
   "execution_count": 10,
   "metadata": {},
   "outputs": [
    {
     "data": {
      "text/plain": [
       "0         1\n",
       "1         1\n",
       "2         1\n",
       "3         1\n",
       "4         1\n",
       "         ..\n",
       "129966    1\n",
       "129967    1\n",
       "129968    1\n",
       "129969    1\n",
       "129970    1\n",
       "Name: Sentiment, Length: 129971, dtype: int64"
      ]
     },
     "execution_count": 10,
     "metadata": {},
     "output_type": "execute_result"
    }
   ],
   "source": [
    "df['Sentiment']\n",
    "\n"
   ]
  },
  {
   "cell_type": "markdown",
   "metadata": {},
   "source": [
    "# model"
   ]
  },
  {
   "cell_type": "code",
   "execution_count": 11,
   "metadata": {},
   "outputs": [],
   "source": [
    "\n",
    "\n",
    "# Prepare data for model training\n",
    "X = df['description_cleaned']  # Cleaned descriptions\n",
    "y = df['Sentiment']  # Sentiment labels\n",
    "\n",
    "# Splitting into train and test:\n",
    "x_train, x_test, y_train, y_test = train_test_split(X, y, test_size=0.25, random_state=42)\n"
   ]
  },
  {
   "cell_type": "code",
   "execution_count": 12,
   "metadata": {},
   "outputs": [
    {
     "data": {
      "text/plain": [
       "118969    aromatically dazzling wine show complex note s...\n",
       "3136      earthy deep true uco valley root ; good fairly...\n",
       "77944     made moscato giallo grape harvested late thoug...\n",
       "64964     fresh informal lean easygoing red offer aroma ...\n",
       "5082      snappy dry red-fruit citrus aroma good opening...\n",
       "                                ...                        \n",
       "128106    fresh white peach green melon flavor shine zes...\n",
       "103694    aroma fragrant spring blossom orchard fruit ha...\n",
       "860       fresh cracked peppercorn dense black purple fr...\n",
       "15795     blend 50 % cabernet sauvignon 25 % merlot 25 %...\n",
       "121958    maestro open fruit balsamic aroma red currant ...\n",
       "Name: description_cleaned, Length: 97478, dtype: object"
      ]
     },
     "execution_count": 12,
     "metadata": {},
     "output_type": "execute_result"
    }
   ],
   "source": [
    "x_train"
   ]
  },
  {
   "cell_type": "code",
   "execution_count": 13,
   "metadata": {},
   "outputs": [],
   "source": [
    "# Initialize tfidf\n",
    "tfidf = TfidfVectorizer()\n",
    "# fit_transform on x_train:\n",
    "x_train_tfidf = tfidf.fit_transform(x_train)\n",
    "# transform on x_test:\n",
    "x_test_tfidf = tfidf.transform(x_test)"
   ]
  },
  {
   "cell_type": "code",
   "execution_count": 14,
   "metadata": {},
   "outputs": [
    {
     "data": {
      "image/png": "[encoded data removed]",
      "text/plain": [
       "<Figure size 600x400 with 1 Axes>"
      ]
     },
     "metadata": {},
     "output_type": "display_data"
    }
   ],
   "source": [
    "# checking if the dataset is balanced or not:\n",
    "plt.figure(figsize=(6, 4))\n",
    "sns.countplot(x=y_train)\n",
    "plt.title(\"Class distribution before SMOTE\")\n",
    "plt.show()"
   ]
  },
  {
   "cell_type": "markdown",
   "metadata": {},
   "source": [
    "Here we can see that there is class is not balancde hence I will balance the class using SMOTE."
   ]
  },
  {
   "cell_type": "code",
   "execution_count": 15,
   "metadata": {},
   "outputs": [],
   "source": [
    "# Define if you want to balance your dataset\n",
    "BALANCE_TARGET = True\n",
    "SMOTE_BALANCE = True\n",
    "\n",
    "# Balance the training data based on conditions\n",
    "if BALANCE_TARGET:\n",
    "    if SMOTE_BALANCE:\n",
    "        # Apply SMOTE to balance the target variable\n",
    "        smote = SMOTE(random_state=42)\n",
    "        x_train_balanced, y_train_balanced = smote.fit_resample(x_train_tfidf, y_train)\n",
    "    else:\n",
    "        # Undersample the majority class if not using SMOTE\n",
    "        undersampler = RandomUnderSampler(random_state=42)\n",
    "        x_train_balanced, y_train_balanced = undersampler.fit_resample(x_train_tfidf, y_train)\n",
    "\n"
   ]
  },
  {
   "cell_type": "code",
   "execution_count": 16,
   "metadata": {},
   "outputs": [
    {
     "data": {
      "image/png": "[encoded data removed]",
      "text/plain": [
       "<Figure size 600x400 with 1 Axes>"
      ]
     },
     "metadata": {},
     "output_type": "display_data"
    }
   ],
   "source": [
    "# Visualize the balance\n",
    "plt.figure(figsize=(6, 4))\n",
    "sns.countplot(x=y_train_balanced)\n",
    "plt.title(\"Class distribution after SMOTE\")\n",
    "plt.show()"
   ]
  },
  {
   "cell_type": "markdown",
   "metadata": {},
   "source": [
    "The following visualizations show the class distribution in the training set before and after applying SMOTE (Synthetic Minority Over-sampling Technique) to balance the target variable. This step is crucial for ensuring that the model is not biased toward the majority class (positive reviews). "
   ]
  },
  {
   "cell_type": "code",
   "execution_count": 17,
   "metadata": {},
   "outputs": [],
   "source": [
    "# Use RandomForestClassifier:\n",
    "model = RandomForestClassifier(random_state=1)\n",
    "# Fit the model:\n",
    "model.fit(x_train_balanced, y_train_balanced)\n",
    "# Predict on x_test_tfidf:\n",
    "y_pred = model.predict(x_test_tfidf)\n"
   ]
  },
  {
   "cell_type": "code",
   "execution_count": 18,
   "metadata": {},
   "outputs": [
    {
     "name": "stdout",
     "output_type": "stream",
     "text": [
      "0.8746499245991445\n",
      "              precision    recall  f1-score   support\n",
      "\n",
      "           0       0.75      0.46      0.57      5902\n",
      "           1       0.89      0.97      0.93     26591\n",
      "\n",
      "    accuracy                           0.87     32493\n",
      "   macro avg       0.82      0.71      0.75     32493\n",
      "weighted avg       0.86      0.87      0.86     32493\n",
      "\n"
     ]
    }
   ],
   "source": [
    "# Evaluate the model's accuracy and claas_report\n",
    "accuracy = accuracy_score(y_test, y_pred)\n",
    "class_report = classification_report(y_test, y_pred)\n",
    "print(accuracy)\n",
    "print(class_report)\n"
   ]
  },
  {
   "cell_type": "markdown",
   "metadata": {},
   "source": [
    "Based on the classification report, we can see that the model performs well in identifying positive reviews, which aligns with our primary goal of building a recommendation system for marketing purposes. Positive reviews are strong (high precision, recall, and F1-score), making the model suitable for recommending products to customers who are likely to be satisfied. If the overall objective were to detect negative reviews for customer support or issue resolution, I would focus on improving the performance for class 0 (negative reviews). However, for this project, the primary focus is on positive reviews, and thus the current model is well-suited for our marketing goals."
   ]
  },
  {
   "cell_type": "code",
   "execution_count": 19,
   "metadata": {},
   "outputs": [],
   "source": [
    "# If running in a Jupyter Notebook, use the current working directory or specify your base path\n",
    "base_dir = os.getcwd()  # Get the current working directory\n",
    "\n",
    "# Define the folder to save the pickled model\n",
    "pickled_data_folder = os.path.join(base_dir, 'pickled_data')\n",
    "\n",
    "# Make sure the directory exists, create it if it doesn't\n",
    "os.makedirs(pickled_data_folder, exist_ok=True)"
   ]
  },
  {
   "cell_type": "code",
   "execution_count": 20,
   "metadata": {},
   "outputs": [
    {
     "name": "stdout",
     "output_type": "stream",
     "text": [
      "Saving model at: /Users/yanellyhernandez/Desktop/Streamlit_Projects/Wine Model Notebooks/pickled_data/tfidf_Vectorizer_Wine.pkl\n"
     ]
    },
    {
     "data": {
      "text/plain": [
       "['/Users/yanellyhernandez/Desktop/Streamlit_Projects/Wine Model Notebooks/pickled_data/tfidf_Vectorizer_Wine.pkl']"
      ]
     },
     "execution_count": 20,
     "metadata": {},
     "output_type": "execute_result"
    }
   ],
   "source": [
    "# Define the path where the model will be saved\n",
    "tfidf_save_path = os.path.join(pickled_data_folder, 'tfidf_Vectorizer_Wine.pkl')\n",
    "\n",
    "# Print the path to verify\n",
    "print(f\"Saving model at: {tfidf_save_path}\")\n",
    "# Save the tfidf to use for streamlit:\n",
    "joblib.dump(tfidf, tfidf_save_path)"
   ]
  },
  {
   "cell_type": "code",
   "execution_count": 21,
   "metadata": {},
   "outputs": [
    {
     "name": "stdout",
     "output_type": "stream",
     "text": [
      "Saving model at: /Users/yanellyhernandez/Desktop/Streamlit_Projects/Wine Model Notebooks/pickled_data/Wine_model.pkl\n"
     ]
    },
    {
     "data": {
      "text/plain": [
       "['/Users/yanellyhernandez/Desktop/Streamlit_Projects/Wine Model Notebooks/pickled_data/Wine_model.pkl']"
      ]
     },
     "execution_count": 21,
     "metadata": {},
     "output_type": "execute_result"
    }
   ],
   "source": [
    "# Define the path where the model will be saved\n",
    "model_save_path = os.path.join(pickled_data_folder, 'Wine_model.pkl')\n",
    "\n",
    "# Print the path to verify\n",
    "print(f\"Saving model at: {model_save_path}\")\n",
    "\n",
    "# Save the pipeline to the specified path\n",
    "joblib.dump(model, model_save_path)"
   ]
  },
  {
   "cell_type": "code",
   "execution_count": 22,
   "metadata": {},
   "outputs": [
    {
     "name": "stdout",
     "output_type": "stream",
     "text": [
      "Saving model at: /Users/yanellyhernandez/Desktop/Streamlit_Projects/Wine Model Notebooks/pickled_data/Evaluation_Metrics_Wine.pkl\n"
     ]
    },
    {
     "data": {
      "text/plain": [
       "['/Users/yanellyhernandez/Desktop/Streamlit_Projects/Wine Model Notebooks/pickled_data/Evaluation_Metrics_Wine.pkl']"
      ]
     },
     "execution_count": 22,
     "metadata": {},
     "output_type": "execute_result"
    }
   ],
   "source": [
    "# Define the path where the model will be saved\n",
    "eval_save_path = os.path.join(pickled_data_folder, 'Evaluation_Metrics_Wine.pkl')\n",
    "\n",
    "# Print the path to verify\n",
    "print(f\"Saving model at: {eval_save_path}\")\n",
    "\n",
    "# Save the pipeline to the specified path\n",
    "joblib.dump((accuracy,class_report), eval_save_path)"
   ]
  },
  {
   "cell_type": "markdown",
   "metadata": {},
   "source": [
    "Saving both the tfidf and eval metrics for streamlit"
   ]
  }
 ],
 "metadata": {
  "kernelspec": {
   "display_name": "base",
   "language": "python",
   "name": "python3"
  },
  "language_info": {
   "codemirror_mode": {
    "name": "ipython",
    "version": 3
   },
   "file_extension": ".py",
   "mimetype": "text/x-python",
   "name": "python",
   "nbconvert_exporter": "python",
   "pygments_lexer": "ipython3",
   "version": "3.11.5"
  }
 },
 "nbformat": 4,
 "nbformat_minor": 2
}
